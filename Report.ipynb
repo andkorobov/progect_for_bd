{
 "cells": [
  {
   "cell_type": "markdown",
   "metadata": {},
   "source": [
    "# Отчет"
   ]
  },
  {
   "cell_type": "markdown",
   "metadata": {},
   "source": [
    "**Репозиторий https://github.com/andkorobov/progect_for_bd/**\n",
    "\n",
    "\n",
    "## Пару слов о возможностях, которые были реализованы:\n",
    "* Чтение файлов формата vowpal wabbit. Вообще я старался сделать что-то подолбное vowpal wabbit. Путь к файлу подаётся либо первым аргументом командной сторки, либо используя аргумент: \"-d file_path\"\n",
    "* Используется статистический градиент: \n",
    "  $$ w_{n+1} = w_n - grad(Los(w)) * \\frac \\mu n   $$ \n",
    "  Где $\\mu$ задаётся с помощью аргумента командной строки \"--initial_t\"\n",
    "* Все фичи воспринимаются как стоки, а затем хэшируются. Логарифм виличины хэша передаётся через аргумент командной строки \"--bit_precision\".\n",
    "* Есть возможность создавать квадратичные фичи по аналогии с vowpal wabbit, используя аргумент командной строки \"--quadratic arg\"\n",
    "* Для запуска в режиме тестирования нужно использовать аргумент командной строки \"--testonly\"\n",
    "* Алгоритм может несколько раз проходить по файлу. Для того, чтобы задать колличество проходов нужно использовать аргумент командной строки \"--passes\"\n",
    "* Алгоритм умеет работать с двумя функциями потерь: квадратичной и логистической. Чтобы задать нужно истользовать аргумент \"--loss_function arg\"\n",
    "* Реализовано два вида регуляризации: L1 и L2. Соответственно задаются с помощью аргументов \"--l1 arg\" и \"--l12 arg\"\n",
    "* Чтобы задать путь к файлу результирующей модели, используется аргумент \"--final_regressor\"\n",
    "* Чтобы задать путь к файлу с предсказанием, используется аргумент \"--predictions\"\n",
    "* Вывод возможен рёх видов identity (число от $-\\infty$ до $+\\infty$), logistic (число от 0 до 1) or glf1 (число от -1 до 1). Для этого используется агрумент \"--link arg\"\n",
    "* При первом проходе файл кешируется. Затем уше проход веется по файлу с кешем, не используя исходный (файл с кешем примерно в полтора разо меньше и в более удобном формате для чтения). Можно задать путь для файла с помощью команды \"--cache_file arg\"\n",
    "* Есть возможность использовать адаптивный learning rate (с помощью команды \"--adaptive\")\n"
   ]
  },
  {
   "cell_type": "markdown",
   "metadata": {},
   "source": [
    "## Компиляция \n",
    "Использовались возможности c++11. Рекомендуется компилировать следующем образом:"
   ]
  },
  {
   "cell_type": "code",
   "execution_count": 2,
   "metadata": {
    "collapsed": true
   },
   "outputs": [],
   "source": [
    "!g++ -std=c++0x -O3 main.cpp -o main"
   ]
  },
  {
   "cell_type": "markdown",
   "metadata": {},
   "source": [
    "## Пример запуска\n",
    "\n",
    "В качестве примера рассмотрим известную задачу Titanic: https://www.kaggle.com/c/titanic. \n",
    "\n",
    "Для подготовки выборки я использовал скрипты из статьи: https://habrahabr.ru/company/mlclass/blog/248779/\n",
    "\n",
    "Для примера воспользуемся произвольным параметрами:"
   ]
  },
  {
   "cell_type": "code",
   "execution_count": 3,
   "metadata": {
    "collapsed": false
   },
   "outputs": [
    {
     "name": "stdout",
     "output_type": "stream",
     "text": [
      "input_path = /ssd_data/titanic/train.vw\n",
      "loss_function = logistic\n",
      "hash_size = 16777216\n",
      "passes = 10\n",
      "initial_t = 0.5\n",
      "l1 = 0.001\n",
      "l2 = 0.001\n",
      "testonly = 0\n",
      "adaptive = 1\n",
      "final_regressor = /ssd_data/titanic/model\n",
      "cache_file = /ssd_data/titanic/train.vw.cache\n",
      "link = logistic\n",
      "quadratic = [ff]\n",
      "\n",
      "Iteration num   | average loss  |  from last    |  lable        | yPredicted    | current t\n",
      "------------------------------------------------------------------------------------------------\n",
      "2\t\t| 11.09657383\t| 22.19314766\t| 1.00000000\t| 0.00000000\t| 0.25000000\n",
      "4\t\t| 8.48564816\t| 5.87472200\t| 1.00000000\t| 0.02432220\t| 0.12500000\n",
      "8\t\t| 4.24332428\t| 0.00100060\t| -1.00000000\t| 0.00038517\t| 0.06250000\n",
      "16\t\t| 2.45841146\t| 0.67349821\t| 1.00000000\t| 0.69759506\t| 0.03125000\n",
      "32\t\t| 1.74550629\t| 1.03260100\t| 1.00000000\t| 0.99982423\t| 0.01562500\n",
      "64\t\t| 1.04915321\t| 0.35280034\t| -1.00000000\t| 0.00007099\t| 0.00781250\n",
      "128\t\t| 1.01093531\t| 0.97271782\t| 1.00000000\t| 0.00036033\t| 0.00390625\n",
      "256\t\t| 0.95923269\t| 0.90753013\t| 1.00000000\t| 0.92704004\t| 0.00195312\n",
      "512\t\t| 1.00256193\t| 1.04589093\t| -1.00000000\t| 0.01244552\t| 0.00097656\n",
      "1024\t\t| 0.94291270\t| 0.88326347\t| -1.00000000\t| 0.11197536\t| 0.00048828\n",
      "2048\t\t| 0.92760152\t| 0.91229105\t| -1.00000000\t| 0.01455623\t| 0.00024414\n",
      "4096\t\t| 0.91894978\t| 0.91029739\t| -1.00000000\t| 0.00804607\t| 0.00012207\n",
      "8192\t\t| 0.90624875\t| 0.89354646\t| 1.00000000\t| 0.85833037\t| 0.00006104\n",
      "\n",
      "Run finished\n"
     ]
    }
   ],
   "source": [
    "!./main --loss_function logistic -d /ssd_data/titanic/train.vw \\\n",
    "--passes 10 --bit_precision 24 -l2 0.001 -l1 0.001 --final_regressor \\\n",
    "/ssd_data/titanic/model --link logistic --cache --adaptive --quadratic ff"
   ]
  },
  {
   "cell_type": "code",
   "execution_count": 4,
   "metadata": {
    "collapsed": false
   },
   "outputs": [
    {
     "name": "stdout",
     "output_type": "stream",
     "text": [
      "input_path = /ssd_data/titanic/test.vw\r\n",
      "loss_function = logistic\r\n",
      "hash_size = 16777216\r\n",
      "passes = 1\r\n",
      "initial_t = 0.5\r\n",
      "l1 = 0.001\r\n",
      "l2 = 0.001\r\n",
      "testonly = 1\r\n",
      "adaptive = 0\r\n",
      "final_regressor = /ssd_data/titanic/model\r\n",
      "predictions = /ssd_data/titanic/predict.txt\r\n",
      "link = logistic\r\n",
      "quadratic = [ff]\r\n",
      "\r\n",
      "Iteration num   | average loss  |  from last    |  lable        | yPredicted    | current t\r\n",
      "------------------------------------------------------------------------------------------------\r\n",
      "2\t\t| 6.59966850\t| 13.19933701\t| 1.00000000\t| 0.75588983\t| 0.25000000\r\n",
      "4\t\t| 8.66672611\t| 10.73378468\t| 1.00000000\t| 0.00000000\t| 0.12500000\r\n",
      "8\t\t| 6.89986324\t| 5.13300133\t| 1.00000000\t| 0.00048999\t| 0.06250000\r\n",
      "16\t\t| 5.79839802\t| 4.69693327\t| 1.00000000\t| 0.99032623\t| 0.03125000\r\n",
      "32\t\t| 5.99392796\t| 6.18945980\t| 1.00000000\t| 0.00040873\t| 0.01562500\r\n",
      "64\t\t| 5.98691225\t| 5.97989559\t| 1.00000000\t| 0.51617122\t| 0.00781250\r\n",
      "128\t\t| 5.55765676\t| 5.12839937\t| 1.00000000\t| 0.62533611\t| 0.00390625\r\n",
      "256\t\t| 5.65012741\t| 5.74259281\t| 1.00000000\t| 0.00017552\t| 0.00195312\r\n",
      "\r\n",
      "Run finished\r\n"
     ]
    }
   ],
   "source": [
    "!./main -d /ssd_data/titanic/test.vw  --final_regressor /ssd_data/titanic/model \\\n",
    "--predictions /ssd_data/titanic/predict.txt --testonly"
   ]
  },
  {
   "cell_type": "markdown",
   "metadata": {},
   "source": [
    "Посмотрим что же вышло:"
   ]
  },
  {
   "cell_type": "code",
   "execution_count": 5,
   "metadata": {
    "collapsed": false
   },
   "outputs": [
    {
     "name": "stdout",
     "output_type": "stream",
     "text": [
      "0\r\n",
      "0.75589\r\n",
      "0.000122357\r\n",
      "0\r\n",
      "0.890314\r\n",
      "0\r\n",
      "0.444748\r\n",
      "0.000489988\r\n",
      "0.916958\r\n",
      "0\r\n"
     ]
    }
   ],
   "source": [
    "! head /ssd_data/titanic/predict.txt"
   ]
  },
  {
   "cell_type": "markdown",
   "metadata": {},
   "source": [
    "Напишем функцию для чтения результата:"
   ]
  },
  {
   "cell_type": "code",
   "execution_count": 11,
   "metadata": {
    "collapsed": true
   },
   "outputs": [],
   "source": [
    "import numpy as np"
   ]
  },
  {
   "cell_type": "code",
   "execution_count": 28,
   "metadata": {
    "collapsed": false
   },
   "outputs": [
    {
     "data": {
      "text/plain": [
       "array([  0.00000000e+00,   7.55890000e-01,   1.22357000e-04,\n",
       "         0.00000000e+00,   8.90314000e-01,   0.00000000e+00,\n",
       "         4.44748000e-01,   4.89988000e-04,   9.16958000e-01,\n",
       "         0.00000000e+00])"
      ]
     },
     "execution_count": 28,
     "metadata": {},
     "output_type": "execute_result"
    }
   ],
   "source": [
    "def read_predict(path):\n",
    "    predict = []\n",
    "    with open(path) as predict_file:\n",
    "        for line in predict_file.readlines():\n",
    "            predict.append(float(line))\n",
    "    return np.array(predict)\n",
    "            \n",
    "read_predict('/ssd_data/titanic/predict.txt')[:10]"
   ]
  },
  {
   "cell_type": "markdown",
   "metadata": {},
   "source": [
    "Сравним с тем что было:"
   ]
  },
  {
   "cell_type": "code",
   "execution_count": 15,
   "metadata": {
    "collapsed": true
   },
   "outputs": [],
   "source": [
    "import pandas as pd"
   ]
  },
  {
   "cell_type": "code",
   "execution_count": 22,
   "metadata": {
    "collapsed": true
   },
   "outputs": [],
   "source": [
    "test_csv = pd.read_csv('/ssd_data/titanic/test.csv')"
   ]
  },
  {
   "cell_type": "code",
   "execution_count": 23,
   "metadata": {
    "collapsed": false
   },
   "outputs": [
    {
     "data": {
      "text/html": [
       "<div>\n",
       "<table border=\"1\" class=\"dataframe\">\n",
       "  <thead>\n",
       "    <tr style=\"text-align: right;\">\n",
       "      <th></th>\n",
       "      <th>PassengerId</th>\n",
       "      <th>Pclass</th>\n",
       "      <th>Name</th>\n",
       "      <th>Sex</th>\n",
       "      <th>Age</th>\n",
       "      <th>SibSp</th>\n",
       "      <th>Parch</th>\n",
       "      <th>Ticket</th>\n",
       "      <th>Fare</th>\n",
       "      <th>Cabin</th>\n",
       "      <th>Embarked</th>\n",
       "    </tr>\n",
       "  </thead>\n",
       "  <tbody>\n",
       "    <tr>\n",
       "      <th>0</th>\n",
       "      <td>892</td>\n",
       "      <td>3</td>\n",
       "      <td>Kelly, Mr. James</td>\n",
       "      <td>male</td>\n",
       "      <td>34.5</td>\n",
       "      <td>0</td>\n",
       "      <td>0</td>\n",
       "      <td>330911</td>\n",
       "      <td>7.8292</td>\n",
       "      <td>NaN</td>\n",
       "      <td>Q</td>\n",
       "    </tr>\n",
       "    <tr>\n",
       "      <th>1</th>\n",
       "      <td>893</td>\n",
       "      <td>3</td>\n",
       "      <td>Wilkes, Mrs. James (Ellen Needs)</td>\n",
       "      <td>female</td>\n",
       "      <td>47.0</td>\n",
       "      <td>1</td>\n",
       "      <td>0</td>\n",
       "      <td>363272</td>\n",
       "      <td>7.0000</td>\n",
       "      <td>NaN</td>\n",
       "      <td>S</td>\n",
       "    </tr>\n",
       "    <tr>\n",
       "      <th>2</th>\n",
       "      <td>894</td>\n",
       "      <td>2</td>\n",
       "      <td>Myles, Mr. Thomas Francis</td>\n",
       "      <td>male</td>\n",
       "      <td>62.0</td>\n",
       "      <td>0</td>\n",
       "      <td>0</td>\n",
       "      <td>240276</td>\n",
       "      <td>9.6875</td>\n",
       "      <td>NaN</td>\n",
       "      <td>Q</td>\n",
       "    </tr>\n",
       "    <tr>\n",
       "      <th>3</th>\n",
       "      <td>895</td>\n",
       "      <td>3</td>\n",
       "      <td>Wirz, Mr. Albert</td>\n",
       "      <td>male</td>\n",
       "      <td>27.0</td>\n",
       "      <td>0</td>\n",
       "      <td>0</td>\n",
       "      <td>315154</td>\n",
       "      <td>8.6625</td>\n",
       "      <td>NaN</td>\n",
       "      <td>S</td>\n",
       "    </tr>\n",
       "    <tr>\n",
       "      <th>4</th>\n",
       "      <td>896</td>\n",
       "      <td>3</td>\n",
       "      <td>Hirvonen, Mrs. Alexander (Helga E Lindqvist)</td>\n",
       "      <td>female</td>\n",
       "      <td>22.0</td>\n",
       "      <td>1</td>\n",
       "      <td>1</td>\n",
       "      <td>3101298</td>\n",
       "      <td>12.2875</td>\n",
       "      <td>NaN</td>\n",
       "      <td>S</td>\n",
       "    </tr>\n",
       "  </tbody>\n",
       "</table>\n",
       "</div>"
      ],
      "text/plain": [
       "   PassengerId  Pclass                                          Name     Sex  \\\n",
       "0          892       3                              Kelly, Mr. James    male   \n",
       "1          893       3              Wilkes, Mrs. James (Ellen Needs)  female   \n",
       "2          894       2                     Myles, Mr. Thomas Francis    male   \n",
       "3          895       3                              Wirz, Mr. Albert    male   \n",
       "4          896       3  Hirvonen, Mrs. Alexander (Helga E Lindqvist)  female   \n",
       "\n",
       "    Age  SibSp  Parch   Ticket     Fare Cabin Embarked  \n",
       "0  34.5      0      0   330911   7.8292   NaN        Q  \n",
       "1  47.0      1      0   363272   7.0000   NaN        S  \n",
       "2  62.0      0      0   240276   9.6875   NaN        Q  \n",
       "3  27.0      0      0   315154   8.6625   NaN        S  \n",
       "4  22.0      1      1  3101298  12.2875   NaN        S  "
      ]
     },
     "execution_count": 23,
     "metadata": {},
     "output_type": "execute_result"
    }
   ],
   "source": [
    "test_csv[:5]"
   ]
  },
  {
   "cell_type": "markdown",
   "metadata": {},
   "source": [
    "Видно, что результатов тут нет. Поэтому было решено воспользоваться уже готовым решением и сравнивать с ним: https://www.kaggle.com/benhamner/titanic/random-forest-benchmark-r/code"
   ]
  },
  {
   "cell_type": "code",
   "execution_count": 25,
   "metadata": {
    "collapsed": false
   },
   "outputs": [],
   "source": [
    "test_csv = pd.read_csv('/ssd_data/titanic/1_random_forest_r_submission .csv')"
   ]
  },
  {
   "cell_type": "code",
   "execution_count": 27,
   "metadata": {
    "collapsed": false
   },
   "outputs": [
    {
     "data": {
      "text/html": [
       "<div>\n",
       "<table border=\"1\" class=\"dataframe\">\n",
       "  <thead>\n",
       "    <tr style=\"text-align: right;\">\n",
       "      <th></th>\n",
       "      <th>PassengerId</th>\n",
       "      <th>Survived</th>\n",
       "    </tr>\n",
       "  </thead>\n",
       "  <tbody>\n",
       "    <tr>\n",
       "      <th>0</th>\n",
       "      <td>892</td>\n",
       "      <td>0</td>\n",
       "    </tr>\n",
       "    <tr>\n",
       "      <th>1</th>\n",
       "      <td>893</td>\n",
       "      <td>0</td>\n",
       "    </tr>\n",
       "    <tr>\n",
       "      <th>2</th>\n",
       "      <td>894</td>\n",
       "      <td>0</td>\n",
       "    </tr>\n",
       "    <tr>\n",
       "      <th>3</th>\n",
       "      <td>895</td>\n",
       "      <td>0</td>\n",
       "    </tr>\n",
       "    <tr>\n",
       "      <th>4</th>\n",
       "      <td>896</td>\n",
       "      <td>0</td>\n",
       "    </tr>\n",
       "    <tr>\n",
       "      <th>5</th>\n",
       "      <td>897</td>\n",
       "      <td>0</td>\n",
       "    </tr>\n",
       "    <tr>\n",
       "      <th>6</th>\n",
       "      <td>898</td>\n",
       "      <td>0</td>\n",
       "    </tr>\n",
       "    <tr>\n",
       "      <th>7</th>\n",
       "      <td>899</td>\n",
       "      <td>0</td>\n",
       "    </tr>\n",
       "    <tr>\n",
       "      <th>8</th>\n",
       "      <td>900</td>\n",
       "      <td>1</td>\n",
       "    </tr>\n",
       "    <tr>\n",
       "      <th>9</th>\n",
       "      <td>901</td>\n",
       "      <td>0</td>\n",
       "    </tr>\n",
       "  </tbody>\n",
       "</table>\n",
       "</div>"
      ],
      "text/plain": [
       "   PassengerId  Survived\n",
       "0          892         0\n",
       "1          893         0\n",
       "2          894         0\n",
       "3          895         0\n",
       "4          896         0\n",
       "5          897         0\n",
       "6          898         0\n",
       "7          899         0\n",
       "8          900         1\n",
       "9          901         0"
      ]
     },
     "execution_count": 27,
     "metadata": {},
     "output_type": "execute_result"
    }
   ],
   "source": [
    "test_csv[:10]"
   ]
  },
  {
   "cell_type": "markdown",
   "metadata": {},
   "source": [
    "посчитаем logloss"
   ]
  },
  {
   "cell_type": "code",
   "execution_count": 35,
   "metadata": {
    "collapsed": true
   },
   "outputs": [],
   "source": [
    "%matplotlib inline\n",
    "import matplotlib.pyplot as plt\n",
    "from sklearn.metrics import log_loss\n",
    "from sklearn import metrics"
   ]
  },
  {
   "cell_type": "code",
   "execution_count": 54,
   "metadata": {
    "collapsed": false
   },
   "outputs": [
    {
     "name": "stdout",
     "output_type": "stream",
     "text": [
      "(418,) (418,)\n"
     ]
    },
    {
     "data": {
      "image/png": "[encoded data removed]",
      "text/plain": [
       "<matplotlib.figure.Figure at 0x7f986d495f10>"
      ]
     },
     "metadata": {},
     "output_type": "display_data"
    }
   ],
   "source": [
    "def plot_res():\n",
    "    plt.figure(figsize=(10, 10))\n",
    "\n",
    "    plt.plot([0, 1], [0, 1], 'k--')\n",
    "\n",
    "    scores = read_predict('/ssd_data/titanic/predict.txt')\n",
    "    y_pred = np.array([[1 - score, score] for score in scores])\n",
    "    y_true = test_csv['Survived'].values\n",
    "    print y_true.shape, scores.shape\n",
    " \n",
    "    _log_loss = log_loss(y_true, y_pred)\n",
    "\n",
    "    fpr, tpr, thresholds = metrics.roc_curve(y_true, 1 - scores, pos_label=0)\n",
    "    roc_auc= metrics.auc(fpr, tpr)\n",
    "    plt.plot(fpr, tpr, label='log_loss = {}, ROC AUC = {}'.format(_log_loss, roc_auc), alpha=0.5, linewidth=2)\n",
    "\n",
    "\n",
    "    plt.legend(loc=4)\n",
    "    plt.xlim(0, 1)\n",
    "    plt.ylim(0, 1)\n",
    "    plt.xlabel('False positive rate')\n",
    "    plt.ylabel('True positive rate')\n",
    "    plt.title('ROC curve')\n",
    "    \n",
    "plot_res()"
   ]
  },
  {
   "cell_type": "markdown",
   "metadata": {},
   "source": [
    "Получился вполне неплохой результат. Попробуем запустить без каких-то параметров. Будем использовать subprocess.Popen"
   ]
  },
  {
   "cell_type": "code",
   "execution_count": 55,
   "metadata": {
    "collapsed": true
   },
   "outputs": [],
   "source": [
    "from subprocess import PIPE, Popen"
   ]
  },
  {
   "cell_type": "code",
   "execution_count": 128,
   "metadata": {
    "collapsed": false
   },
   "outputs": [],
   "source": [
    "def run_lerning(input_file='/ssd_data/titanic/train.vw', \n",
    "               final_regressor='/ssd_data/titanic/model',\n",
    "               l1=0.001,\n",
    "               l2=0.001,\n",
    "               configs = {}):\n",
    "    line = './main -d {input_file} --final_regressor {final_regressor}'\\\n",
    "           .format(input_file=input_file, final_regressor=final_regressor)\n",
    "    if l1:\n",
    "        line += ' -l1 {}'.format(l1)\n",
    "    if l2:\n",
    "        line += ' -l2 {}'.format(l2)\n",
    "    for k, v in configs.items():\n",
    "        line += ' --{}'.format(k)\n",
    "        if v is not None:\n",
    "            line += ' {}'.format(v)\n",
    "\n",
    "    Popen(line.split()).wait()\n",
    "    \n",
    "def run_predict(input_file='/ssd_data/titanic/test.vw', \n",
    "               final_regressor='/ssd_data/titanic/model',\n",
    "               predictions='/ssd_data/titanic/predict.txt'):\n",
    "    line = './main -d {}  --final_regressor {} --predictions {} --testonly'\\\n",
    "            .format(input_file, final_regressor, predictions)\n",
    "\n",
    "    Popen(line.split()).wait()\n",
    "\n",
    "def get_log_loss(predictions='/ssd_data/titanic/predict.txt'):\n",
    "    scores = read_predict('/ssd_data/titanic/predict.txt')\n",
    "    y_pred = np.array([[1 - score, score] for score in scores])\n",
    "    y_true = test_csv['Survived'].values\n",
    "    return log_loss(y_true, y_pred)"
   ]
  },
  {
   "cell_type": "markdown",
   "metadata": {},
   "source": [
    "Проверим:"
   ]
  },
  {
   "cell_type": "code",
   "execution_count": 77,
   "metadata": {
    "collapsed": false
   },
   "outputs": [
    {
     "data": {
      "text/plain": [
       "0.39233247408345967"
      ]
     },
     "execution_count": 77,
     "metadata": {},
     "output_type": "execute_result"
    }
   ],
   "source": [
    "run_lerning(configs={'loss_function': 'logistic', \n",
    "                     'passes': 10,\n",
    "                     'bit_precision': 24,\n",
    "                     'link': 'logistic',\n",
    "                     'cache': None,\n",
    "                     'adaptive': None,\n",
    "                     'quadratic': 'ff'})\n",
    "run_predict()\n",
    "get_log_loss()"
   ]
  },
  {
   "cell_type": "markdown",
   "metadata": {},
   "source": [
    "Получилось тоже самое. Возьмем квадратичную функцию ошибки: "
   ]
  },
  {
   "cell_type": "code",
   "execution_count": 96,
   "metadata": {
    "collapsed": false
   },
   "outputs": [
    {
     "data": {
      "text/plain": [
       "0.28557430165952835"
      ]
     },
     "execution_count": 96,
     "metadata": {},
     "output_type": "execute_result"
    }
   ],
   "source": [
    "def check_config(configs):\n",
    "    run_lerning(configs=configs)\n",
    "    run_predict()\n",
    "    return get_log_loss()\n",
    "check_config(configs={'passes': 10,\n",
    "                      'bit_precision': 24,\n",
    "                      'link': 'logistic',\n",
    "                      'cache': None,\n",
    "                      'adaptive': None,\n",
    "                      'quadratic': 'ff'})"
   ]
  },
  {
   "cell_type": "markdown",
   "metadata": {},
   "source": [
    "Получили результат ближе к случайному лесу. Уберем теперь quadratic:"
   ]
  },
  {
   "cell_type": "code",
   "execution_count": 97,
   "metadata": {
    "collapsed": false
   },
   "outputs": [
    {
     "data": {
      "text/plain": [
       "0.46986103142540991"
      ]
     },
     "execution_count": 97,
     "metadata": {},
     "output_type": "execute_result"
    }
   ],
   "source": [
    "check_config(configs={'passes': 10,\n",
    "                      'bit_precision': 24,\n",
    "                      'link': 'logistic',\n",
    "                      'cache': None,\n",
    "                      'adaptive': None})"
   ]
  },
  {
   "cell_type": "markdown",
   "metadata": {},
   "source": [
    "Стало хуже. Если убирать adaptive, то расходится (adaptive в дополнение делает нормализацию). "
   ]
  },
  {
   "cell_type": "markdown",
   "metadata": {},
   "source": [
    "Проверим для различных регуляризаций:"
   ]
  },
  {
   "cell_type": "code",
   "execution_count": 134,
   "metadata": {
    "collapsed": false,
    "scrolled": true
   },
   "outputs": [
    {
     "name": "stdout",
     "output_type": "stream",
     "text": [
      "1e-06 1e-06 10 logistic 0.377856505718\n",
      "1e-06 1e-06 10 quadratic 0.285579402274\n",
      "1e-06 0.0001 10 logistic 0.377481942511\n",
      "1e-06 0.0001 10 quadratic 0.285579308369\n",
      "1e-06 0.01 10 logistic 0.354571848541\n",
      "1e-06 0.01 10 quadratic 0.285572354108\n",
      "1e-06 1.0 10 logistic 0.276531742992\n",
      "1e-06 1.0 10 quadratic 0.28488674483\n",
      "1e-06 100.0 10 logistic 0.321280675346\n",
      "1e-06 100.0 10 quadratic 0.264252848002\n",
      "1e-06 10000.0 10 logistic 0.347533532568\n",
      "1e-06 10000.0 10 quadratic 0.319150340102\n",
      "0.0001 1e-06 10 logistic 0.382602164256\n",
      "0.0001 1e-06 10 quadratic 0.285578933075\n",
      "0.0001 0.0001 10 logistic 0.382307084408\n",
      "0.0001 0.0001 10 quadratic 0.285578914185\n",
      "0.0001 0.01 10 logistic 0.356680798591\n",
      "0.0001 0.01 10 quadratic 0.285571931625\n",
      "0.0001 1.0 10 logistic 0.276544395309\n",
      "0.0001 1.0 10 quadratic 0.284886252136\n",
      "0.0001 100.0 10 logistic 0.321281113255\n",
      "0.0001 100.0 10 quadratic 0.264252860778\n",
      "0.0001 10000.0 10 logistic 0.34753357459\n",
      "0.0001 10000.0 10 quadratic 0.31915037975\n",
      "0.01 1e-06 10 logistic 0.396877501102\n",
      "0.01 1e-06 10 quadratic 0.285535895522\n",
      "0.01 0.0001 10 logistic 0.396858577779\n",
      "0.01 0.0001 10 quadratic 0.28553597099\n",
      "0.01 0.01 10 logistic 0.394961987419\n",
      "0.01 0.01 10 quadratic 0.285528919763\n",
      "0.01 1.0 10 logistic 0.277992297239\n",
      "0.01 1.0 10 quadratic 0.284843593612\n",
      "0.01 100.0 10 logistic 0.32132882236\n",
      "0.01 100.0 10 quadratic 0.264254846591\n",
      "0.01 10000.0 10 logistic 0.347537009378\n",
      "0.01 10000.0 10 quadratic 0.319151505207\n",
      "1.0 1e-06 10 logistic 1.09356564609\n",
      "1.0 1e-06 10 quadratic 0.281963828407\n",
      "1.0 0.0001 10 logistic 1.09355947189\n",
      "1.0 0.0001 10 quadratic 0.281963770835\n",
      "1.0 0.01 10 logistic 1.0929395086\n",
      "1.0 0.01 10 quadratic 0.281957773138\n",
      "1.0 1.0 10 logistic 1.52086352408\n",
      "1.0 1.0 10 quadratic 0.281205872186\n",
      "1.0 100.0 10 logistic 0.337192348746\n",
      "1.0 100.0 10 quadratic 0.264819563921\n",
      "1.0 10000.0 10 logistic 0.347966951667\n",
      "1.0 10000.0 10 quadratic 0.319264147673\n",
      "100.0 1e-06 10 logistic 8.93522168013\n",
      "100.0 1e-06 10 quadratic 0.944223245102\n",
      "100.0 0.0001 10 logistic 8.93522245834\n",
      "100.0 0.0001 10 quadratic 0.944223472026\n",
      "100.0 0.01 10 logistic 8.93530811666\n",
      "100.0 0.01 10 quadratic 0.944242466083\n",
      "100.0 1.0 10 logistic 8.9486649242\n",
      "100.0 1.0 10 quadratic 0.946125429689\n",
      "100.0 100.0 10 logistic 9.34349766913\n",
      "100.0 100.0 10 quadratic 0.736705499712\n",
      "100.0 10000.0 10 logistic 0.402065157875\n",
      "100.0 10000.0 10 quadratic 0.343043670731\n",
      "10000.0 1e-06 10 logistic 8.93419963337\n",
      "10000.0 1e-06 10 quadratic 8.848965015\n",
      "10000.0 0.0001 10 logistic 8.93420053642\n",
      "10000.0 0.0001 10 quadratic 8.84896501495\n",
      "10000.0 0.01 10 logistic 8.93428673766\n",
      "10000.0 0.01 10 quadratic 8.84896525602\n",
      "10000.0 1.0 10 logistic 8.94770623855\n",
      "10000.0 1.0 10 quadratic 8.84902042505\n",
      "10000.0 100.0 10 logistic 9.60150573075\n",
      "10000.0 100.0 10 quadratic 8.86196903652\n",
      "10000.0 10000.0 10 logistic 9.4099931007\n",
      "10000.0 10000.0 10 quadratic 9.33671895077\n"
     ]
    }
   ],
   "source": [
    "results = {}\n",
    "passes = 10\n",
    "for l1 in np.logspace(-6, 4, 6):\n",
    "    for l2 in np.logspace(-6, 4, 6):\n",
    "            for loss_function in ['logistic', 'quadratic']:\n",
    "                run_lerning(l1=l1, l2=l2,\n",
    "                            configs={'loss_function': loss_function, \n",
    "                                     'passes': 10,\n",
    "                                     'bit_precision': 24,\n",
    "                                     'link': 'logistic',\n",
    "                                     'cache': None,\n",
    "                                     'adaptive': None,\n",
    "                                     'quadratic': 'ff'})\n",
    "                run_predict()\n",
    "                results[(l1, l2, passes, loss_function)] = get_log_loss()\n",
    "                print l1, l2, passes, loss_function, get_log_loss()"
   ]
  },
  {
   "cell_type": "markdown",
   "metadata": {},
   "source": [
    "отсортируем и выведем 5 наилучших варианта:"
   ]
  },
  {
   "cell_type": "code",
   "execution_count": 138,
   "metadata": {
    "collapsed": false
   },
   "outputs": [
    {
     "name": "stdout",
     "output_type": "stream",
     "text": [
      "   l1    |    l2   | passes | loss_function | log_loss\n",
      " 1e-06   | 100.0   | 10     | quadratic     | 0.264252848002\n",
      " 0.0001  | 100.0   | 10     | quadratic     | 0.264252860778\n",
      " 0.01    | 100.0   | 10     | quadratic     | 0.264254846591\n",
      " 1.0     | 100.0   | 10     | quadratic     | 0.264819563921\n",
      " 1e-06   | 1.0     | 10     | logistic      | 0.276531742992\n"
     ]
    }
   ],
   "source": [
    "best = sorted([(v, k) for k, v in results.items()])[:5]\n",
    "print '   l1    |    l2   | passes | loss_function | log_loss'\n",
    "for _log_loss, (l1, l2, passes, loss_function) in best:\n",
    "    print ' {:7s} | {:7s} | {:6s} | {:13s} | {}'\\\n",
    "           .format(str(l1), str(l2), str(passes), loss_function, _log_loss)"
   ]
  },
  {
   "cell_type": "markdown",
   "metadata": {},
   "source": [
    "Попробуем для них посмотреть зависимость от колличества проходов:"
   ]
  },
  {
   "cell_type": "code",
   "execution_count": 140,
   "metadata": {
    "collapsed": false
   },
   "outputs": [
    {
     "name": "stdout",
     "output_type": "stream",
     "text": [
      "1e-06 100.0 1 quadratic 0.257002600994\n",
      "1e-06 100.0 2 quadratic 0.25954456856\n",
      "1e-06 100.0 4 quadratic 0.261841735569\n",
      "1e-06 100.0 8 quadratic 0.263733963008\n",
      "1e-06 100.0 16 quadratic 0.265210519662\n",
      "1e-06 100.0 32 quadratic 0.266324675053\n",
      "0.0001 100.0 1 quadratic 0.257002646517\n",
      "0.0001 100.0 2 quadratic 0.259544601102\n",
      "0.0001 100.0 4 quadratic 0.261841830734\n",
      "0.0001 100.0 8 quadratic 0.263734016931\n",
      "0.0001 100.0 16 quadratic 0.265210499396\n",
      "0.0001 100.0 32 quadratic 0.266324711416\n",
      "0.01 100.0 1 quadratic 0.257007173093\n",
      "0.01 100.0 2 quadratic 0.259548213517\n",
      "0.01 100.0 4 quadratic 0.26184454692\n",
      "0.01 100.0 8 quadratic 0.263736143148\n",
      "0.01 100.0 16 quadratic 0.265212174382\n",
      "0.01 100.0 32 quadratic 0.266326047181\n",
      "1.0 100.0 1 quadratic 0.257936281914\n",
      "1.0 100.0 2 quadratic 0.260330530139\n",
      "1.0 100.0 4 quadratic 0.262512666395\n",
      "1.0 100.0 8 quadratic 0.264321420118\n",
      "1.0 100.0 16 quadratic 0.265740941822\n",
      "1.0 100.0 32 quadratic 0.266816152487\n",
      "1e-06 1.0 1 logistic 0.282343784837\n",
      "1e-06 1.0 2 logistic 0.279833308525\n",
      "1e-06 1.0 4 logistic 0.278074011776\n",
      "1e-06 1.0 8 logistic 0.276843274712\n",
      "1e-06 1.0 16 logistic 0.275981488733\n",
      "1e-06 1.0 32 logistic 0.275377158379\n"
     ]
    }
   ],
   "source": [
    "for _log_loss, (l1, l2, p, loss_function) in best:\n",
    "    for passes in [1, 2, 4, 8, 16, 32]:\n",
    "        run_lerning(l1=l1, l2=l2,\n",
    "                    configs={'loss_function': loss_function, \n",
    "                             'passes': passes,\n",
    "                             'bit_precision': 24,\n",
    "                             'link': 'logistic',\n",
    "                             'cache': None,\n",
    "                             'adaptive': None,\n",
    "                             'quadratic': 'ff'})\n",
    "        run_predict()\n",
    "        results[(l1, l2, passes, loss_function)] = get_log_loss()\n",
    "        print l1, l2, passes, loss_function, get_log_loss()"
   ]
  },
  {
   "cell_type": "code",
   "execution_count": 148,
   "metadata": {
    "collapsed": false
   },
   "outputs": [
    {
     "name": "stdout",
     "output_type": "stream",
     "text": [
      " N |   l1    |    l2   | passes | loss_function | log_loss\n",
      " 0 | 1e-06   | 100.0   | 1      | quadratic     | 0.257002600994\n",
      " 1 | 0.0001  | 100.0   | 1      | quadratic     | 0.257002646517\n",
      " 2 | 0.01    | 100.0   | 1      | quadratic     | 0.257007173093\n",
      " 3 | 1.0     | 100.0   | 1      | quadratic     | 0.257936281914\n",
      " 4 | 1e-06   | 100.0   | 2      | quadratic     | 0.25954456856\n",
      " 5 | 0.0001  | 100.0   | 2      | quadratic     | 0.259544601102\n",
      " 6 | 0.01    | 100.0   | 2      | quadratic     | 0.259548213517\n",
      " 7 | 1.0     | 100.0   | 2      | quadratic     | 0.260330530139\n",
      " 8 | 1e-06   | 100.0   | 4      | quadratic     | 0.261841735569\n",
      " 9 | 0.0001  | 100.0   | 4      | quadratic     | 0.261841830734\n",
      "10 | 0.01    | 100.0   | 4      | quadratic     | 0.26184454692\n",
      "11 | 1.0     | 100.0   | 4      | quadratic     | 0.262512666395\n",
      "12 | 1e-06   | 100.0   | 8      | quadratic     | 0.263733963008\n",
      "13 | 0.0001  | 100.0   | 8      | quadratic     | 0.263734016931\n",
      "14 | 0.01    | 100.0   | 8      | quadratic     | 0.263736143148\n",
      "15 | 1e-06   | 100.0   | 10     | quadratic     | 0.264252848002\n",
      "16 | 0.0001  | 100.0   | 10     | quadratic     | 0.264252860778\n",
      "17 | 0.01    | 100.0   | 10     | quadratic     | 0.264254846591\n",
      "18 | 1.0     | 100.0   | 8      | quadratic     | 0.264321420118\n",
      "19 | 1.0     | 100.0   | 10     | quadratic     | 0.264819563921\n",
      "20 | 0.0001  | 100.0   | 16     | quadratic     | 0.265210499396\n",
      "21 | 1e-06   | 100.0   | 16     | quadratic     | 0.265210519662\n",
      "22 | 0.01    | 100.0   | 16     | quadratic     | 0.265212174382\n",
      "23 | 1.0     | 100.0   | 16     | quadratic     | 0.265740941822\n",
      "24 | 1e-06   | 100.0   | 32     | quadratic     | 0.266324675053\n",
      "25 | 0.0001  | 100.0   | 32     | quadratic     | 0.266324711416\n",
      "26 | 0.01    | 100.0   | 32     | quadratic     | 0.266326047181\n",
      "27 | 1.0     | 100.0   | 32     | quadratic     | 0.266816152487\n",
      "28 | 1e-06   | 1.0     | 32     | logistic      | 0.275377158379\n",
      "29 | 1e-06   | 1.0     | 16     | logistic      | 0.275981488733\n",
      "30 | 1e-06   | 1.0     | 10     | logistic      | 0.276531742992\n",
      "31 | 0.0001  | 1.0     | 10     | logistic      | 0.276544395309\n",
      "32 | 1e-06   | 1.0     | 8      | logistic      | 0.276843274712\n",
      "33 | 0.01    | 1.0     | 10     | logistic      | 0.277992297239\n",
      "34 | 1e-06   | 1.0     | 4      | logistic      | 0.278074011776\n",
      "35 | 1e-06   | 1.0     | 2      | logistic      | 0.279833308525\n",
      "36 | 1.0     | 1.0     | 10     | quadratic     | 0.281205872186\n",
      "37 | 1.0     | 0.01    | 10     | quadratic     | 0.281957773138\n",
      "38 | 1.0     | 0.0001  | 10     | quadratic     | 0.281963770835\n",
      "39 | 1.0     | 1e-06   | 10     | quadratic     | 0.281963828407\n"
     ]
    }
   ],
   "source": [
    "best = sorted([(v, k) for k, v in results.items()])[:40]\n",
    "print ' N |   l1    |    l2   | passes | loss_function | log_loss'\n",
    "i = 0\n",
    "for _log_loss, (l1, l2, passes, loss_function) in best:\n",
    "    print '{:2} | {:7s} | {:7s} | {:6s} | {:13s} | {}'\\\n",
    "           .format(i, str(l1), str(l2), str(passes), loss_function, _log_loss)\n",
    "    i += 1"
   ]
  },
  {
   "cell_type": "markdown",
   "metadata": {},
   "source": [
    "Как видно из результатов quadratic ближе к случайному лесу, чем logistic. Попробуем залить на сайт https://www.kaggle.com/c/titanic некоторые из вариантов "
   ]
  },
  {
   "cell_type": "code",
   "execution_count": 153,
   "metadata": {
    "collapsed": false
   },
   "outputs": [],
   "source": [
    "_log_loss, (l1, l2, passes, loss_function) = best[0]\n",
    "run_lerning(l1=l1, l2=l2,\n",
    "            configs={'loss_function': loss_function, \n",
    "                     'passes': passes,\n",
    "                     'bit_precision': 24,\n",
    "                     'link': 'logistic',\n",
    "                     'cache': None,\n",
    "                     'adaptive': None,\n",
    "                     'quadratic': 'ff'})\n",
    "run_predict()\n",
    "scores = read_predict('/ssd_data/titanic/predict.txt')\n",
    "y_pred = np.array([int(score > 0.5) for score in scores])\n",
    "res = pd.DataFrame({'PassengerId': np.array(range(892, 892 + 418)),\n",
    "                    'Survived': y_pred})\n",
    "res.to_csv('/ssd_data/titanic/predict.csv', index=False)"
   ]
  },
  {
   "cell_type": "markdown",
   "metadata": {},
   "source": [
    "Получился результат 0.77512 (2734 место)"
   ]
  },
  {
   "cell_type": "code",
   "execution_count": 155,
   "metadata": {
    "collapsed": true
   },
   "outputs": [],
   "source": [
    "_log_loss, (l1, l2, passes, loss_function) = best[28]\n",
    "run_lerning(l1=l1, l2=l2,\n",
    "            configs={'loss_function': loss_function, \n",
    "                     'passes': passes,\n",
    "                     'bit_precision': 24,\n",
    "                     'link': 'logistic',\n",
    "                     'cache': None,\n",
    "                     'adaptive': None,\n",
    "                     'quadratic': 'ff'})\n",
    "run_predict()\n",
    "scores = read_predict('/ssd_data/titanic/predict.txt')\n",
    "y_pred = np.array([int(score > 0.5) for score in scores])\n",
    "res = pd.DataFrame({'PassengerId': np.array(range(892, 892 + 418)),\n",
    "                    'Survived': y_pred})\n",
    "res.to_csv('/ssd_data/titanic/predict.csv', index=False)"
   ]
  },
  {
   "cell_type": "markdown",
   "metadata": {},
   "source": [
    "Получился тоже самое. Залил результат случайных деревьев, получил результат 0.78469. Лучше, но не значительно."
   ]
  }
 ],
 "metadata": {
  "kernelspec": {
   "display_name": "Python 2",
   "language": "python",
   "name": "python2"
  },
  "language_info": {
   "codemirror_mode": {
    "name": "ipython",
    "version": 2
   },
   "file_extension": ".py",
   "mimetype": "text/x-python",
   "name": "python",
   "nbconvert_exporter": "python",
   "pygments_lexer": "ipython2",
   "version": "2.7.6"
  }
 },
 "nbformat": 4,
 "nbformat_minor": 0
}
